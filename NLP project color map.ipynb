{
 "cells": [
  {
   "cell_type": "code",
   "execution_count": 119,
   "metadata": {
    "collapsed": false,
    "deletable": true,
    "editable": true
   },
   "outputs": [],
   "source": [
    "import plotly.plotly as py\n",
    "from plotly.graph_objs import *\n",
    "import plotly\n",
    "plotly.tools.set_credentials_file(username='islaperfito', api_key='7oYUJsYb62qLBqJ8u76b')\n",
    "import pandas as pd"
   ]
  },
  {
   "cell_type": "code",
   "execution_count": 120,
   "metadata": {
    "collapsed": false,
    "deletable": true,
    "editable": true
   },
   "outputs": [
    {
     "name": "stdout",
     "output_type": "stream",
     "text": [
      "             state num_tweets_from_state total_sentiment       sentiment_avg  \\\n",
      "0               RI                   129           -1.87     -0.014496124031   \n",
      "1               CA                  6822          -41.93   -0.00614629141014   \n",
      "2               IL                  1581          -15.03   -0.00950664136622   \n",
      "3               WY                    12            1.02               0.085   \n",
      "4               TX                  3464           14.46                 0.0   \n",
      "5               NM                   232            0.01                 0.0   \n",
      "6               CO                   838          -11.77    -0.0140453460621   \n",
      "7               WV                    95            0.25                 0.0   \n",
      "8               NH                   220           -4.12    -0.0187272727273   \n",
      "9               NJ                  1435            8.71                 0.0   \n",
      "10              MA                   959            -9.1   -0.00948905109489   \n",
      "11              MS                    55            1.92     0.0349090909091   \n",
      "12              NY                  3997            9.39    0.00234926194646   \n",
      "13              AK                    99            3.81     0.0384848484848   \n",
      "14              CT                   575            -2.3                 0.0   \n",
      "15              IN                   432            4.04    0.00935185185185   \n",
      "16              MO                   554           -2.81   -0.00507220216607   \n",
      "17              ID                   133           -3.98                 0.0   \n",
      "18              WI                   318            4.79     0.0150628930818   \n",
      "19              OH                   989            6.98    0.00705763397371   \n",
      "20              VT                   239           11.28     0.0471966527197   \n",
      "21              IA                   158           -1.66                 0.0   \n",
      "22              NE                   134           -1.71    -0.0127611940299   \n",
      "23              WA                  1185          -11.07    -0.0093417721519   \n",
      "24              KY                   256            7.24          0.02828125   \n",
      "25              PA                  1187          -10.86   -0.00914911541702   \n",
      "26  Virgin Islands                     1            0.04                0.04   \n",
      "27              OR                   686          -10.62    -0.0154810495627   \n",
      "28              DE                    47            -0.7    -0.0148936170213   \n",
      "29              ME                    79            0.79                0.01   \n",
      "30              ND                    34            0.72     0.0211764705882   \n",
      "31              AR                   227          -15.03    -0.0662114537445   \n",
      "32              TN                   645            -0.5   -0.00077519379845   \n",
      "33              MN                   430            2.29    0.00532558139535   \n",
      "34              GA                  1081            3.45     0.0031914893617   \n",
      "35              FL                  2495            5.14    0.00206012024048   \n",
      "36              SD                    33           -0.02  -0.000606060606061   \n",
      "37              MD                   886            -7.7   -0.00869074492099   \n",
      "38              OK                   252           -9.53    -0.0378174603175   \n",
      "39     Puerto Rico                    30           -0.16   -0.00533333333333   \n",
      "40              VA                  1049           14.94      0.014242135367   \n",
      "41              AZ                  1157          -26.62    -0.0230077787381   \n",
      "42              LA                   398             8.1      0.020351758794   \n",
      "43              NV                   669           -2.14   -0.00319880418535   \n",
      "44              MI                   942            9.36    0.00993630573248   \n",
      "45              SC                   268          -13.08    -0.0488059701493   \n",
      "46              AL                   244            0.63    0.00258196721311   \n",
      "47              KS                   220          -10.58    -0.0480909090909   \n",
      "48              HI                   197           15.34     0.0778680203046   \n",
      "49              NC                   780            6.57    0.00842307692308   \n",
      "50      Washington                     6            0.35     0.0583333333333   \n",
      "51              UT                   224            1.51    0.00674107142857   \n",
      "52              MT                   130           -3.46                 0.0   \n",
      "53              DC                  1047           41.45     0.0395893027698   \n",
      "\n",
      "   normalized_sentiment_avg  \n",
      "0           -0.315986607723  \n",
      "1             -0.2055474523  \n",
      "2            -0.24999315893  \n",
      "3                       1.0  \n",
      "4                       0.0  \n",
      "5                       0.0  \n",
      "6           -0.310024387827  \n",
      "7                       0.0  \n",
      "8            -0.37194994372  \n",
      "9                       0.0  \n",
      "10          -0.249760501007  \n",
      "11           0.337472025425  \n",
      "12         -0.0931809199216  \n",
      "13           0.384766823368  \n",
      "14                      0.0  \n",
      "15        -0.00056108548461  \n",
      "16          -0.191340998788  \n",
      "17                      0.0  \n",
      "18                      0.0  \n",
      "19         -0.0309055841496  \n",
      "20           0.499993600429  \n",
      "21                      0.0  \n",
      "22          -0.293039536476  \n",
      "23                      0.0  \n",
      "24           0.249808812819  \n",
      "25          -0.245264337926  \n",
      "26           0.404806991988  \n",
      "27          -0.329013736386  \n",
      "28          -0.321244053246  \n",
      "29         0.00801165331391  \n",
      "30           0.155837367722  \n",
      "31                     -1.0  \n",
      "32          -0.134506569104  \n",
      "33         -0.0538145971307  \n",
      "34         -0.0820411895058  \n",
      "35         -0.0970052559598  \n",
      "36          -0.132269527026  \n",
      "37          -0.239201695386  \n",
      "38          -0.624446525393  \n",
      "39           -0.19479485312  \n",
      "40          0.0641203046358  \n",
      "41          -0.428566104795  \n",
      "42           0.144929307865  \n",
      "43          -0.166562479247  \n",
      "44         0.00716920036556  \n",
      "45          -0.769786174734  \n",
      "46                      0.0  \n",
      "47          -0.760328411574  \n",
      "48           0.905668790044  \n",
      "49                      0.0  \n",
      "50           0.647293032289  \n",
      "51         -0.0350926022266  \n",
      "52                      0.0  \n",
      "53           0.399374900437  \n"
     ]
    }
   ],
   "source": [
    "df = pd.read_csv('data2.csv')\n",
    "for col in df.columns:\n",
    "    df[col] = df[col].astype(str)\n",
    "\n",
    "print(df)\n"
   ]
  },
  {
   "cell_type": "code",
   "execution_count": 121,
   "metadata": {
    "collapsed": true,
    "deletable": true,
    "editable": true
   },
   "outputs": [],
   "source": [
    "scl = [[0.0, 'rgb(20, 84, 168)'],[0.2, 'rgb(75, 214, 216)'],[0.4, 'rgb(118, 224, 180)'],\\\n",
    "            [0.6, 'rgb(255, 219, 20)'],[0.8, 'rgb(255, 145, 12)'],[1.0, 'rgb(211, 38, 38)']]"
   ]
  },
  {
   "cell_type": "code",
   "execution_count": 125,
   "metadata": {
    "collapsed": false,
    "deletable": true,
    "editable": true
   },
   "outputs": [],
   "source": [
    "df['text'] = df['state'] + '<br>' +\\\n",
    "    'Normalized Sentiment avg '+df['normalized_sentiment_avg']\n",
    "\n",
    "data = [ dict(\n",
    "        type='choropleth',\n",
    "        colorscale = scl,\n",
    "        autocolorscale = False,\n",
    "        locations = df['state'],\n",
    "        z = df['normalized_sentiment_avg'].astype(float),\n",
    "        locationmode = 'USA-states',\n",
    "        text = df['text'],\n",
    "        marker = dict(\n",
    "            line = dict (\n",
    "                color = 'rgb(255,255,255)',\n",
    "                width = 2\n",
    "            ) ),\n",
    "        colorbar = dict(\n",
    "            title = \"Sentiment: 1.0=Good to -1.0=Bad \")\n",
    "            \n",
    "        ) ]"
   ]
  },
  {
   "cell_type": "code",
   "execution_count": 126,
   "metadata": {
    "collapsed": true,
    "deletable": true,
    "editable": true
   },
   "outputs": [],
   "source": [
    "layout = dict(\n",
    "        title = 'Donald Trump Sentiment Analysis by State',\n",
    "        geo = dict(\n",
    "            scope='usa',\n",
    "            projection=dict( type='albers usa' ),\n",
    "            showlakes = True,\n",
    "            lakecolor = 'rgb(255, 255, 255)'),\n",
    "             )"
   ]
  },
  {
   "cell_type": "code",
   "execution_count": 127,
   "metadata": {
    "collapsed": false,
    "deletable": true,
    "editable": true
   },
   "outputs": [
    {
     "data": {
      "text/html": [
       "<iframe id=\"igraph\" scrolling=\"no\" style=\"border:none;\" seamless=\"seamless\" src=\"https://plot.ly/~islaperfito/1.embed\" height=\"525px\" width=\"100%\"></iframe>"
      ],
      "text/plain": [
       "<plotly.tools.PlotlyDisplay object>"
      ]
     },
     "execution_count": 127,
     "metadata": {},
     "output_type": "execute_result"
    }
   ],
   "source": [
    "fig = dict( data=data, layout=layout )\n",
    "py.iplot( fig, filename='d3-cloropleth-map' )"
   ]
  },
  {
   "cell_type": "code",
   "execution_count": 110,
   "metadata": {
    "collapsed": false,
    "deletable": true,
    "editable": true
   },
   "outputs": [
    {
     "ename": "SyntaxError",
     "evalue": "invalid syntax (<ipython-input-110-a15ebd3023fc>, line 1)",
     "output_type": "error",
     "traceback": [
      "\u001b[0;36m  File \u001b[0;32m\"<ipython-input-110-a15ebd3023fc>\"\u001b[0;36m, line \u001b[0;32m1\u001b[0m\n\u001b[0;31m    colorbar info\u001b[0m\n\u001b[0m                ^\u001b[0m\n\u001b[0;31mSyntaxError\u001b[0m\u001b[0;31m:\u001b[0m invalid syntax\n"
     ]
    }
   ],
   "source": []
  },
  {
   "cell_type": "code",
   "execution_count": 111,
   "metadata": {
    "collapsed": false,
    "deletable": true,
    "editable": true
   },
   "outputs": [
    {
     "ename": "SyntaxError",
     "evalue": "invalid syntax (<ipython-input-111-6337627c09b9>, line 1)",
     "output_type": "error",
     "traceback": [
      "\u001b[0;36m  File \u001b[0;32m\"<ipython-input-111-6337627c09b9>\"\u001b[0;36m, line \u001b[0;32m1\u001b[0m\n\u001b[0;31m    colorbar dictionay\u001b[0m\n\u001b[0m                     ^\u001b[0m\n\u001b[0;31mSyntaxError\u001b[0m\u001b[0;31m:\u001b[0m invalid syntax\n"
     ]
    }
   ],
   "source": []
  },
  {
   "cell_type": "code",
   "execution_count": null,
   "metadata": {
    "collapsed": true,
    "deletable": true,
    "editable": true
   },
   "outputs": [],
   "source": []
  }
 ],
 "metadata": {
  "kernelspec": {
   "display_name": "Python 3",
   "language": "python",
   "name": "python3"
  },
  "language_info": {
   "codemirror_mode": {
    "name": "ipython",
    "version": 3
   },
   "file_extension": ".py",
   "mimetype": "text/x-python",
   "name": "python",
   "nbconvert_exporter": "python",
   "pygments_lexer": "ipython3",
   "version": "3.5.2"
  }
 },
 "nbformat": 4,
 "nbformat_minor": 2
}
