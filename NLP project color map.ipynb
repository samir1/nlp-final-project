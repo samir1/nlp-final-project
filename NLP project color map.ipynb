{
 "cells": [
  {
   "cell_type": "code",
   "execution_count": 78,
   "metadata": {
    "collapsed": false
   },
   "outputs": [],
   "source": [
    "import plotly.plotly as py\n",
    "from plotly.graph_objs import *\n",
    "import plotly\n",
    "plotly.tools.set_credentials_file(username='islaperfito', api_key='7oYUJsYb62qLBqJ8u76b')\n",
    "import pandas as pd"
   ]
  },
  {
   "cell_type": "code",
   "execution_count": 86,
   "metadata": {
    "collapsed": false
   },
   "outputs": [
    {
     "name": "stdout",
     "output_type": "stream",
     "text": [
      "   state num_tweets_from_state total_sentiment sentiment_avg  \\\n",
      "0     GA                     1           -0.25         -0.25   \n",
      "1     CA                     5            0.47         0.094   \n",
      "2     NH                     1            0.12          0.12   \n",
      "3     OR                     1            0.02          0.02   \n",
      "4     IL                     1            0.36          0.36   \n",
      "5     CT                     1             0.0           0.0   \n",
      "6     MI                     2            0.11         0.055   \n",
      "7     NY                     3           -0.27         -0.09   \n",
      "8     MD                     2           -0.13        -0.065   \n",
      "9     NJ                     2            0.32          0.16   \n",
      "10    AZ                     1           -0.64         -0.64   \n",
      "11    SC                     1            0.08          0.08   \n",
      "12    NV                     1            0.08          0.08   \n",
      "13    FL                     1           -0.16         -0.16   \n",
      "14    TX                     2           -0.01        -0.005   \n",
      "15    MA                     1           -0.49         -0.49   \n",
      "16    PA                     1           -0.09         -0.09   \n",
      "17    WA                     2           -0.32         -0.16   \n",
      "18    ME                     1            0.18          0.18   \n",
      "\n",
      "   normalized_sentiment_avg  \n",
      "0                      0.39  \n",
      "1                     0.734  \n",
      "2                      0.76  \n",
      "3                      0.66  \n",
      "4                       1.0  \n",
      "5                      0.64  \n",
      "6                     0.695  \n",
      "7                      0.55  \n",
      "8                     0.575  \n",
      "9                       0.8  \n",
      "10                      0.0  \n",
      "11                     0.72  \n",
      "12                     0.72  \n",
      "13                     0.48  \n",
      "14                    0.635  \n",
      "15                     0.15  \n",
      "16                     0.55  \n",
      "17                     0.48  \n",
      "18                     0.82  \n"
     ]
    }
   ],
   "source": [
    "df = pd.read_csv('data2.csv')\n",
    "for col in df.columns:\n",
    "    df[col] = df[col].astype(str)\n",
    "    \n",
    "print(df)\n"
   ]
  },
  {
   "cell_type": "code",
   "execution_count": 100,
   "metadata": {
    "collapsed": true
   },
   "outputs": [],
   "source": [
    "scl = [[0.0, 'rgb(20, 84, 168)'],[0.2, 'rgb(75, 214, 216)'],[0.4, 'rgb(118, 224, 180)'],\\\n",
    "            [0.6, 'rgb(255, 219, 20)'],[0.8, 'rgb(255, 145, 12)'],[1.0, 'rgb(211, 38, 38)']]"
   ]
  },
  {
   "cell_type": "code",
   "execution_count": 112,
   "metadata": {
    "collapsed": false
   },
   "outputs": [],
   "source": [
    "df['text'] = df['state'] + '<br>' +\\\n",
    "    'Normalized Sentiment avg '+df['normalized_sentiment_avg']\n",
    "\n",
    "data = [ dict(\n",
    "        type='choropleth',\n",
    "        colorscale = scl,\n",
    "        autocolorscale = False,\n",
    "        locations = df['state'],\n",
    "        z = df['normalized_sentiment_avg'].astype(float),\n",
    "        locationmode = 'USA-states',\n",
    "        text = df['text'],\n",
    "        marker = dict(\n",
    "            line = dict (\n",
    "                color = 'rgb(255,255,255)',\n",
    "                width = 2\n",
    "            ) ),\n",
    "        colorbar = dict(\n",
    "            title = \"Sentiment: 1.0=Good - 0.0=Bad \")\n",
    "            \n",
    "        ) ]"
   ]
  },
  {
   "cell_type": "code",
   "execution_count": 113,
   "metadata": {
    "collapsed": true
   },
   "outputs": [],
   "source": [
    "layout = dict(\n",
    "        title = 'Donald Trump Sentiment Analysis by State',\n",
    "        geo = dict(\n",
    "            scope='usa',\n",
    "            projection=dict( type='albers usa' ),\n",
    "            showlakes = True,\n",
    "            lakecolor = 'rgb(255, 255, 255)'),\n",
    "             )"
   ]
  },
  {
   "cell_type": "code",
   "execution_count": 114,
   "metadata": {
    "collapsed": false
   },
   "outputs": [
    {
     "data": {
      "text/html": [
       "<iframe id=\"igraph\" scrolling=\"no\" style=\"border:none;\" seamless=\"seamless\" src=\"https://plot.ly/~islaperfito/1.embed\" height=\"525px\" width=\"100%\"></iframe>"
      ],
      "text/plain": [
       "<plotly.tools.PlotlyDisplay object>"
      ]
     },
     "execution_count": 114,
     "metadata": {},
     "output_type": "execute_result"
    }
   ],
   "source": [
    "fig = dict( data=data, layout=layout )\n",
    "py.iplot( fig, filename='d3-cloropleth-map' )"
   ]
  },
  {
   "cell_type": "code",
   "execution_count": 110,
   "metadata": {
    "collapsed": false
   },
   "outputs": [
    {
     "ename": "SyntaxError",
     "evalue": "invalid syntax (<ipython-input-110-a15ebd3023fc>, line 1)",
     "output_type": "error",
     "traceback": [
      "\u001b[0;36m  File \u001b[0;32m\"<ipython-input-110-a15ebd3023fc>\"\u001b[0;36m, line \u001b[0;32m1\u001b[0m\n\u001b[0;31m    colorbar info\u001b[0m\n\u001b[0m                ^\u001b[0m\n\u001b[0;31mSyntaxError\u001b[0m\u001b[0;31m:\u001b[0m invalid syntax\n"
     ]
    }
   ],
   "source": []
  },
  {
   "cell_type": "code",
   "execution_count": 111,
   "metadata": {
    "collapsed": false
   },
   "outputs": [
    {
     "ename": "SyntaxError",
     "evalue": "invalid syntax (<ipython-input-111-6337627c09b9>, line 1)",
     "output_type": "error",
     "traceback": [
      "\u001b[0;36m  File \u001b[0;32m\"<ipython-input-111-6337627c09b9>\"\u001b[0;36m, line \u001b[0;32m1\u001b[0m\n\u001b[0;31m    colorbar dictionay\u001b[0m\n\u001b[0m                     ^\u001b[0m\n\u001b[0;31mSyntaxError\u001b[0m\u001b[0;31m:\u001b[0m invalid syntax\n"
     ]
    }
   ],
   "source": []
  },
  {
   "cell_type": "code",
   "execution_count": null,
   "metadata": {
    "collapsed": true
   },
   "outputs": [],
   "source": []
  }
 ],
 "metadata": {
  "kernelspec": {
   "display_name": "Python 3",
   "language": "python",
   "name": "python3"
  },
  "language_info": {
   "codemirror_mode": {
    "name": "ipython",
    "version": 3
   },
   "file_extension": ".py",
   "mimetype": "text/x-python",
   "name": "python",
   "nbconvert_exporter": "python",
   "pygments_lexer": "ipython3",
   "version": "3.6.0"
  }
 },
 "nbformat": 4,
 "nbformat_minor": 2
}
